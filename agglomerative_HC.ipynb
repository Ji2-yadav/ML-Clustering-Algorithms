{
  "nbformat": 4,
  "nbformat_minor": 0,
  "metadata": {
    "colab": {
      "name": "agglomerative_HC(1).ipynb",
      "provenance": [],
      "collapsed_sections": []
    },
    "kernelspec": {
      "name": "python3",
      "display_name": "Python 3"
    },
    "language_info": {
      "name": "python"
    }
  },
  "cells": [
    {
      "cell_type": "code",
      "metadata": {
        "id": "Rap9d1gFiOHM"
      },
      "source": [
        "import numpy as np\n",
        "import matplotlib.pyplot as plt\n",
        "%matplotlib inline\n"
      ],
      "execution_count": null,
      "outputs": []
    },
    {
      "cell_type": "code",
      "metadata": {
        "colab": {
          "base_uri": "https://localhost:8080/",
          "height": 296
        },
        "id": "YsqZDW1CiYRz",
        "outputId": "1325aec1-6460-47f3-8fc1-6d366fb09b17"
      },
      "source": [
        "X = np.array([[0.40,0.53],\n",
        "              [0.22,0.32],\n",
        "              [0.35,0.32],\n",
        "              [0.26,0.19],\n",
        "              [0.08,0.41],\n",
        "              [0.35,0.30],\n",
        "              [0.80,0.98],\n",
        "              [0.28,0.33]\n",
        "])\n",
        "plt.scatter(X[:,0], X[:,1], alpha=0.7, edgecolors='b')\n",
        "plt.xlabel('field 0')\n",
        "plt.ylabel('field 1')"
      ],
      "execution_count": null,
      "outputs": [
        {
          "output_type": "execute_result",
          "data": {
            "text/plain": [
              "Text(0, 0.5, 'field 1')"
            ]
          },
          "metadata": {
            "tags": []
          },
          "execution_count": 7
        },
        {
          "output_type": "display_data",
          "data": {
            "image/png": "[encoded data removed]",
            "text/plain": [
              "<Figure size 432x288 with 1 Axes>"
            ]
          },
          "metadata": {
            "tags": [],
            "needs_background": "light"
          }
        }
      ]
    },
    {
      "cell_type": "markdown",
      "metadata": {
        "id": "_MPps43wBKHN"
      },
      "source": [
        "Functions to deal with distance matrix of the data set.\n",
        "\n",
        "\n",
        "Distance calulated between two samples. The two samples can be both samples, both clusters or one cluster and one sample. If both of them are samples/clusters, then simple norm is used. In other cases, we refer it as an exception case and pass the samples as parameter to some function that \n",
        "calculates the necessary distance between cluster and a sample\n",
        "  interclusterdist(cl,sample)-to compute the distances between elements of a    cluster(which are samples) and the actual sample given.\n",
        "   \n",
        "  \n",
        "intersampledist(s1,s2)-To be used in case we have one sample and one cluster.\n",
        "\n",
        "compute_distance()- creates distance matrix of the clusters.\n",
        "\n",
        "---\n",
        "\n"
      ]
    },
    {
      "cell_type": "code",
      "metadata": {
        "id": "qo_4VHtkf8Fe"
      },
      "source": [
        "def interclusterdist(cl,sample):\n",
        "  \n",
        "  if sample[0]!='<class \\'list\\'>':\n",
        "    sample = [sample]\n",
        "    dist   = []\n",
        "    for i in range(len(cl)):\n",
        "      for j in range(len(sample)):\n",
        "        dist.append(np.linalg.norm(np.array(cl[i])-np.array(sample[j])))\n",
        "  return min(dist)\n",
        "\n",
        "\n",
        "\n",
        "    \n",
        "def intersampledist(s1,s2):\n",
        "  '''\n",
        "  To be used in case we have one sample and one cluster.\n",
        "  '''\n",
        "        \n",
        "  if str(type(s2[0]))!='<class \\'list\\'>':\n",
        "    s2=[s2]\n",
        "  if str(type(s1[0]))!='<class \\'list\\'>':\n",
        "    s1=[s1]\n",
        "  m = len(s1)\n",
        "  n = len(s2)\n",
        "  dist = []\n",
        "  if n>=m:\n",
        "    for i in range(n):\n",
        "      for j in range(m):\n",
        "        if (len(s2[i])>=len(s1[j])) and str(type(s2[i][0])!='<class \\'list\\'>'):\n",
        "          dist.append(interclusterdist(s2[i],s1[j]))\n",
        "        else:\n",
        "          dist.append(np.linalg.norm(np.array(s2[i])-np.array(s1[j])))\n",
        "  else:\n",
        "    for i in range(m):\n",
        "        for j in range(n):\n",
        "          if (len(s1[i])>=len(s2[j])) and str(type(s1[i][0])!='<class \\'list\\'>'):\n",
        "            dist.append(interclusterdist(s1[i],s2[j]))\n",
        "          else:\n",
        "            dist.append(np.linalg.norm(np.array(s1[i])-np.array(s2[j])))\n",
        "  return min(dist)\n",
        "\n",
        "def distance_calculate(sample1,sample2):\n",
        "        \n",
        "  dist = []\n",
        "  for i in range(len(sample1)):\n",
        "    for j in range(len(sample2)):\n",
        "      try:\n",
        "        dist.append(np.linalg.norm(np.array(sample1[i])-np.array(sample2[j])))\n",
        "      except:\n",
        "        dist.append(intersampledist(sample1[i],sample2[j]))\n",
        "  return min(dist)\n",
        "    \n",
        "\n",
        "\n",
        "def compute_distance(samples):\n",
        " \n",
        "  Distance_mat = np.zeros((len(samples),len(samples)))\n",
        "  for i in range(Distance_mat.shape[0]):\n",
        "    for j in range(Distance_mat.shape[0]):\n",
        "      if i!=j:\n",
        "        Distance_mat[i,j] = float(distance_calculate(samples[i],samples[j]))\n",
        "      else:\n",
        "        Distance_mat[i,j] = 10**4\n",
        "    return Distance_mat\n",
        "    \n",
        "    \n",
        "\n",
        "\n"
      ],
      "execution_count": null,
      "outputs": []
    },
    {
      "cell_type": "markdown",
      "metadata": {
        "id": "lUYJT2OaBIr9"
      },
      "source": [
        "The iterative logic which implemnts the logic of hierarchial clustering.\n",
        "This algorithm reduces the number of clusters one by one until the whole dataset becomes one complete cluster."
      ]
    },
    {
      "cell_type": "code",
      "metadata": {
        "colab": {
          "base_uri": "https://localhost:8080/"
        },
        "id": "MQ7sO1yCiioU",
        "outputId": "bfd1edc6-22dc-440d-8103-841103ee813f"
      },
      "source": [
        "progression = [[i] for i in range(X.shape[0])]\n",
        "samples     = [[list(X[i])] for i in range(X.shape[0])]\n",
        "m = len(samples)\n",
        "Distance_mat = compute_distance(samples)\n",
        "\n",
        "# the original distace matrix\n",
        "print(\"The initial distance matrix-\")\n",
        "\n",
        "print('\\n')\n",
        "\n",
        "\n",
        "\n",
        "while m>1:\n",
        "    print(\"the distance matrix for this iterations-\")\n",
        "    Distance_mat = distcal.compute_distance(samples)\n",
        "    print(Distance_mat)\n",
        "    print('\\n')\n",
        "    sample_ind_needed = np.where(Distance_mat==Distance_mat.min())[0]\n",
        "    value_to_add      = samples.pop(sample_ind_needed[1])\n",
        "    samples[sample_ind_needed[0]].append(value_to_add)\n",
        "    print('Sample size before clustering    : ',m)\n",
        "    print('Cluster  1(going to be merged)   :',progression[sample_ind_needed[0]])\n",
        "    print('Cluster  2(going to be merged)   :',progression[sample_ind_needed[1]])\n",
        "    \n",
        "    progression[sample_ind_needed[0]].append(progression[sample_ind_needed[1]])\n",
        "    progression[sample_ind_needed[0]] = [progression[sample_ind_needed[0]]]\n",
        "    v = progression.pop(sample_ind_needed[1])\n",
        "    m = len(samples)\n",
        "    \n",
        "    print('Current Sample                   :',progression)\n",
        "    print('Cluster we get                   :',progression[sample_ind_needed[0]])\n",
        "    print('Sample size after clustering     :',m)\n",
        "    print('\\n')"
      ],
      "execution_count": null,
      "outputs": [
        {
          "output_type": "stream",
          "text": [
            "The initial distance matrix-\n",
            "\n",
            "\n",
            "the distance matrix for this iterations-\n",
            "[[1.00000000e+04 2.76586334e-01 2.15870331e-01 3.67695526e-01\n",
            "  3.41760150e-01 2.35372046e-01 6.02079729e-01 2.33238076e-01]\n",
            " [2.76586334e-01 1.00000000e+04 1.30000000e-01 1.36014705e-01\n",
            "  1.66433170e-01 1.31529464e-01 8.78635305e-01 6.08276253e-02]\n",
            " [2.15870331e-01 1.30000000e-01 1.00000000e+04 1.58113883e-01\n",
            "  2.84604989e-01 2.00000000e-02 7.98811617e-01 7.07106781e-02]\n",
            " [3.67695526e-01 1.36014705e-01 1.58113883e-01 1.00000000e+04\n",
            "  2.84253408e-01 1.42126704e-01 9.56922149e-01 1.41421356e-01]\n",
            " [3.41760150e-01 1.66433170e-01 2.84604989e-01 2.84253408e-01\n",
            "  1.00000000e+04 2.91547595e-01 9.18313672e-01 2.15406592e-01]\n",
            " [2.35372046e-01 1.31529464e-01 2.00000000e-02 1.42126704e-01\n",
            "  2.91547595e-01 1.00000000e+04 8.15414005e-01 7.61577311e-02]\n",
            " [6.02079729e-01 8.78635305e-01 7.98811617e-01 9.56922149e-01\n",
            "  9.18313672e-01 8.15414005e-01 1.00000000e+04 8.32406151e-01]\n",
            " [2.33238076e-01 6.08276253e-02 7.07106781e-02 1.41421356e-01\n",
            "  2.15406592e-01 7.61577311e-02 8.32406151e-01 1.00000000e+04]]\n",
            "\n",
            "\n",
            "Sample size before clustering    :  8\n",
            "Cluster  1(going to be merged)   : [2]\n",
            "Cluster  2(going to be merged)   : [5]\n",
            "Current Sample                   : [[0], [1], [[2, [5]]], [3], [4], [6], [7]]\n",
            "Cluster we get                   : [[2, [5]]]\n",
            "Sample size after clustering     : 7\n",
            "\n",
            "\n",
            "the distance matrix for this iterations-\n",
            "[[1.00000000e+04 2.76586334e-01 2.15870331e-01 3.67695526e-01\n",
            "  3.41760150e-01 6.02079729e-01 2.33238076e-01]\n",
            " [2.76586334e-01 1.00000000e+04 1.30000000e-01 1.36014705e-01\n",
            "  1.66433170e-01 8.78635305e-01 6.08276253e-02]\n",
            " [2.15870331e-01 1.30000000e-01 1.00000000e+04 1.42126704e-01\n",
            "  2.84604989e-01 7.98811617e-01 7.07106781e-02]\n",
            " [3.67695526e-01 1.36014705e-01 1.42126704e-01 1.00000000e+04\n",
            "  2.84253408e-01 9.56922149e-01 1.41421356e-01]\n",
            " [3.41760150e-01 1.66433170e-01 2.84604989e-01 2.84253408e-01\n",
            "  1.00000000e+04 9.18313672e-01 2.15406592e-01]\n",
            " [6.02079729e-01 8.78635305e-01 7.98811617e-01 9.56922149e-01\n",
            "  9.18313672e-01 1.00000000e+04 8.32406151e-01]\n",
            " [2.33238076e-01 6.08276253e-02 7.07106781e-02 1.41421356e-01\n",
            "  2.15406592e-01 8.32406151e-01 1.00000000e+04]]\n",
            "\n",
            "\n",
            "Sample size before clustering    :  7\n",
            "Cluster  1(going to be merged)   : [1]\n",
            "Cluster  2(going to be merged)   : [7]\n",
            "Current Sample                   : [[0], [[1, [7]]], [[2, [5]]], [3], [4], [6]]\n",
            "Cluster we get                   : [[1, [7]]]\n",
            "Sample size after clustering     : 6\n",
            "\n",
            "\n",
            "the distance matrix for this iterations-\n",
            "[[1.00000000e+04 2.33238076e-01 2.15870331e-01 3.67695526e-01\n",
            "  3.41760150e-01 6.02079729e-01]\n",
            " [2.33238076e-01 1.00000000e+04 7.07106781e-02 1.36014705e-01\n",
            "  1.66433170e-01 8.32406151e-01]\n",
            " [2.15870331e-01 7.07106781e-02 1.00000000e+04 1.42126704e-01\n",
            "  2.84604989e-01 7.98811617e-01]\n",
            " [3.67695526e-01 1.36014705e-01 1.42126704e-01 1.00000000e+04\n",
            "  2.84253408e-01 9.56922149e-01]\n",
            " [3.41760150e-01 1.66433170e-01 2.84604989e-01 2.84253408e-01\n",
            "  1.00000000e+04 9.18313672e-01]\n",
            " [6.02079729e-01 8.32406151e-01 7.98811617e-01 9.56922149e-01\n",
            "  9.18313672e-01 1.00000000e+04]]\n",
            "\n",
            "\n",
            "Sample size before clustering    :  6\n",
            "Cluster  1(going to be merged)   : [[1, [7]]]\n",
            "Cluster  2(going to be merged)   : [[2, [5]]]\n",
            "Current Sample                   : [[0], [[[1, [7]], [[2, [5]]]]], [3], [4], [6]]\n",
            "Cluster we get                   : [[[1, [7]], [[2, [5]]]]]\n",
            "Sample size after clustering     : 5\n",
            "\n",
            "\n",
            "the distance matrix for this iterations-\n",
            "[[1.00000000e+04 1.86815417e-01 3.67695526e-01 3.41760150e-01\n",
            "  6.02079729e-01]\n",
            " [1.86815417e-01 1.00000000e+04 1.36014705e-01 1.66433170e-01\n",
            "  7.74209274e-01]\n",
            " [3.67695526e-01 1.36014705e-01 1.00000000e+04 2.84253408e-01\n",
            "  9.56922149e-01]\n",
            " [3.41760150e-01 1.66433170e-01 2.84253408e-01 1.00000000e+04\n",
            "  9.18313672e-01]\n",
            " [6.02079729e-01 7.74209274e-01 9.56922149e-01 9.18313672e-01\n",
            "  1.00000000e+04]]\n",
            "\n",
            "\n",
            "Sample size before clustering    :  5\n",
            "Cluster  1(going to be merged)   : [[[1, [7]], [[2, [5]]]]]\n",
            "Cluster  2(going to be merged)   : [3]\n",
            "Current Sample                   : [[0], [[[[1, [7]], [[2, [5]]]], [3]]], [4], [6]]\n",
            "Cluster we get                   : [[[[1, [7]], [[2, [5]]]], [3]]]\n",
            "Sample size after clustering     : 4\n",
            "\n",
            "\n",
            "the distance matrix for this iterations-\n",
            "[[1.00000000e+04 1.86815417e-01 3.41760150e-01 6.02079729e-01]\n",
            " [1.86815417e-01 1.00000000e+04 1.66433170e-01 7.74209274e-01]\n",
            " [3.41760150e-01 1.66433170e-01 1.00000000e+04 9.18313672e-01]\n",
            " [6.02079729e-01 7.74209274e-01 9.18313672e-01 1.00000000e+04]]\n",
            "\n",
            "\n",
            "Sample size before clustering    :  4\n",
            "Cluster  1(going to be merged)   : [[[[1, [7]], [[2, [5]]]], [3]]]\n",
            "Cluster  2(going to be merged)   : [4]\n",
            "Current Sample                   : [[0], [[[[[1, [7]], [[2, [5]]]], [3]], [4]]], [6]]\n",
            "Cluster we get                   : [[[[[1, [7]], [[2, [5]]]], [3]], [4]]]\n",
            "Sample size after clustering     : 3\n",
            "\n",
            "\n",
            "the distance matrix for this iterations-\n",
            "[[1.00000000e+04 1.86815417e-01 6.02079729e-01]\n",
            " [1.86815417e-01 1.00000000e+04 7.74209274e-01]\n",
            " [6.02079729e-01 7.74209274e-01 1.00000000e+04]]\n",
            "\n",
            "\n",
            "Sample size before clustering    :  3\n",
            "Cluster  1(going to be merged)   : [0]\n",
            "Cluster  2(going to be merged)   : [[[[[1, [7]], [[2, [5]]]], [3]], [4]]]\n",
            "Current Sample                   : [[[0, [[[[[1, [7]], [[2, [5]]]], [3]], [4]]]]], [6]]\n",
            "Cluster we get                   : [[0, [[[[[1, [7]], [[2, [5]]]], [3]], [4]]]]]\n",
            "Sample size after clustering     : 2\n",
            "\n",
            "\n",
            "the distance matrix for this iterations-\n",
            "[[1.00000000e+04 6.02079729e-01]\n",
            " [6.02079729e-01 1.00000000e+04]]\n",
            "\n",
            "\n",
            "Sample size before clustering    :  2\n",
            "Cluster  1(going to be merged)   : [[0, [[[[[1, [7]], [[2, [5]]]], [3]], [4]]]]]\n",
            "Cluster  2(going to be merged)   : [6]\n",
            "Current Sample                   : [[[[0, [[[[[1, [7]], [[2, [5]]]], [3]], [4]]]], [6]]]]\n",
            "Cluster we get                   : [[[0, [[[[[1, [7]], [[2, [5]]]], [3]], [4]]]], [6]]]\n",
            "Sample size after clustering     : 1\n",
            "\n",
            "\n"
          ],
          "name": "stdout"
        },
        {
          "output_type": "stream",
          "text": [
            "/usr/local/lib/python3.7/dist-packages/ipykernel_launcher.py:31: VisibleDeprecationWarning: Creating an ndarray from ragged nested sequences (which is a list-or-tuple of lists-or-tuples-or ndarrays with different lengths or shapes) is deprecated. If you meant to do this, you must specify 'dtype=object' when creating the ndarray\n"
          ],
          "name": "stderr"
        }
      ]
    },
    {
      "cell_type": "code",
      "metadata": {
        "colab": {
          "base_uri": "https://localhost:8080/",
          "height": 298
        },
        "id": "_AZOkAg32Fch",
        "outputId": "80632fb2-0bc7-4505-ab53-97c4062a8fdb"
      },
      "source": [
        "from scipy.cluster.hierarchy import dendrogram, linkage\n",
        "from matplotlib import pyplot as plt\n",
        "import scipy.cluster.hierarchy as sch\n",
        "dendrogram = sch.dendrogram(sch.linkage(X, method = 'single'))\n",
        "plt.title('Dendrogram')\n",
        "plt.xlabel('data points')\n",
        "plt.ylabel('Euclidean distances')\n",
        "plt.show()\n",
        "\n"
      ],
      "execution_count": null,
      "outputs": [
        {
          "output_type": "display_data",
          "data": {
            "image/png": "[encoded data removed]",
            "text/plain": [
              "<Figure size 432x288 with 1 Axes>"
            ]
          },
          "metadata": {
            "tags": [],
            "needs_background": "light"
          }
        }
      ]
    },
    {
      "cell_type": "code",
      "metadata": {
        "colab": {
          "base_uri": "https://localhost:8080/",
          "height": 296
        },
        "id": "9-kl-OX3fRzp",
        "outputId": "d3d28fb8-fc6e-4d1a-f3de-f9afacf38790"
      },
      "source": [
        "labels = np.array([0, 0, 0, 0, 0, 0, 1, 0])\n",
        "X1_cluster1 = np.array([0.4 , 0.22, 0.35, 0.26, 0.08, 0.35, 0.28])\n",
        "X2_cluster1 = np.array([0.53, 0.32, 0.32, 0.19, 0.41, 0.3 , 0.33])\n",
        "\n",
        "X1_cluster2 = np.array([0.8])\n",
        "X2_cluster2 = np.array([0.98])\n",
        "\n",
        "# Visualising the clusters\n",
        "plt.scatter(X1_cluster1, X2_cluster1, s = 100, c = 'red', label = 'Cluster 1')\n",
        "plt.scatter(X1_cluster2, X2_cluster2, s = 100, c = 'blue', label = 'Cluster 2')\n",
        "plt.xlabel('field 0')\n",
        "plt.ylabel('field 1')"
      ],
      "execution_count": null,
      "outputs": [
        {
          "output_type": "execute_result",
          "data": {
            "text/plain": [
              "Text(0, 0.5, 'field 1')"
            ]
          },
          "metadata": {
            "tags": []
          },
          "execution_count": 39
        },
        {
          "output_type": "display_data",
          "data": {
            "image/png": "[encoded data removed]",
            "text/plain": [
              "<Figure size 432x288 with 1 Axes>"
            ]
          },
          "metadata": {
            "tags": [],
            "needs_background": "light"
          }
        }
      ]
    },
    {
      "cell_type": "code",
      "metadata": {
        "colab": {
          "base_uri": "https://localhost:8080/",
          "height": 296
        },
        "id": "AEDiwXH-3aqw",
        "outputId": "94781eca-7e5c-4bf7-d7d3-402a28e1659a"
      },
      "source": [
        "# Training the Hierarchical Clustering model on the dataset\n",
        "from sklearn.cluster import AgglomerativeClustering\n",
        "\n",
        "# print(dendrogram['color_list'])\n",
        "hc = AgglomerativeClustering(n_clusters = 2, affinity = 'euclidean', linkage = 'single')\n",
        "y_hc = hc.fit_predict(X)\n",
        "\n",
        "# Visualising the clusters\n",
        "plt.scatter(X[y_hc == 0, 0], X[y_hc == 0, 1], s = 100, c = 'red', label = 'Cluster 1')\n",
        "plt.scatter(X[y_hc == 1, 0], X[y_hc == 1, 1], s = 100, c = 'blue', label = 'Cluster 2')\n",
        "plt.xlabel('field 0')\n",
        "plt.ylabel('field 1')"
      ],
      "execution_count": null,
      "outputs": [
        {
          "output_type": "execute_result",
          "data": {
            "text/plain": [
              "Text(0, 0.5, 'field 1')"
            ]
          },
          "metadata": {
            "tags": []
          },
          "execution_count": 15
        },
        {
          "output_type": "display_data",
          "data": {
            "image/png": "[encoded data removed]",
            "text/plain": [
              "<Figure size 432x288 with 1 Axes>"
            ]
          },
          "metadata": {
            "tags": [],
            "needs_background": "light"
          }
        }
      ]
    }
  ]
}