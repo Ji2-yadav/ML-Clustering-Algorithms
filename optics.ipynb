{
  "nbformat": 4,
  "nbformat_minor": 0,
  "metadata": {
    "kernelspec": {
      "display_name": "Python 3",
      "language": "python",
      "name": "python3"
    },
    "language_info": {
      "codemirror_mode": {
        "name": "ipython",
        "version": 3
      },
      "file_extension": ".py",
      "mimetype": "text/x-python",
      "name": "python",
      "nbconvert_exporter": "python",
      "pygments_lexer": "ipython3",
      "version": "3.7.4"
    },
    "colab": {
      "name": "optics.ipynb",
      "provenance": [],
      "collapsed_sections": []
    }
  },
  "cells": [
    {
      "cell_type": "code",
      "metadata": {
        "id": "usi8FpvWhoNy"
      },
      "source": [
        "import numpy as np\n",
        "import pandas as pd\n",
        "import matplotlib.pyplot as plt\n",
        "%matplotlib inline\n",
        "from sklearn.datasets import make_blobs\n",
        "from collections import Counter"
      ],
      "execution_count": null,
      "outputs": []
    },
    {
      "cell_type": "markdown",
      "metadata": {
        "id": "IiOnNVRqhoOM"
      },
      "source": [
        "<div class=\"alert alert-block alert-success\">\n",
        "<b>Functions to output one unprocessed point:</b> This function will output one unprocessed point from the master data. That is a point to which  no cluster is assigned.\n",
        "</div>"
      ]
    },
    {
      "cell_type": "code",
      "metadata": {
        "id": "HHE3kH1EhoOP"
      },
      "source": [
        "def output_unprocessed_point():\n",
        "    subdata                = master_df[['Points','Cluster']]\n",
        "    unprocessed_data       = subdata[subdata['Cluster']==0]\n",
        "    index_unprocessed_data = unprocessed_data['Cluster'].index[0]\n",
        "    return master_df.loc[index_unprocessed_data]['Points']\n",
        "    "
      ],
      "execution_count": null,
      "outputs": []
    },
    {
      "cell_type": "markdown",
      "metadata": {
        "id": "Cyi0vAd_hoOR"
      },
      "source": [
        "<div class=\"alert alert-block alert-success\">\n",
        "<b>Functions to check unprocessed point:</b> This function will check whether a cluster is assigned to one point or not. \n",
        "</div>"
      ]
    },
    {
      "cell_type": "code",
      "metadata": {
        "id": "CegOrffvhoOT"
      },
      "source": [
        "def check_processed(testpt):\n",
        "    for i in range(len(master_df)):\n",
        "        if Counter(np.array(testpt)==master_df.loc[i]['Points'])[True]==datasets.shape[1]:\n",
        "            cluster_value = master_df.loc[i]['Cluster']\n",
        "            if cluster_value==0:\n",
        "                return 'not assigned'\n",
        "            else:\n",
        "                return 'assigned'"
      ],
      "execution_count": null,
      "outputs": []
    },
    {
      "cell_type": "markdown",
      "metadata": {
        "id": "xALuzb01hoOU"
      },
      "source": [
        "<div class=\"alert alert-block alert-success\">\n",
        "<b>Calculating neighbors:</b> This function will calculate neighbors of a particular point. After calculating neighbors, it will also do the additional task of computing the core and reachability distances of the points. The end result will be a data frame having 4 columns.\n",
        "</div>"
      ]
    },
    {
      "cell_type": "code",
      "metadata": {
        "id": "-sgSyxnOhoOV"
      },
      "source": [
        "def calculate_neighbors(pt):\n",
        "    df = pd.DataFrame(columns=['neighbors','nbr_distance','core_distance','reach_distance'])\n",
        "    nbrs = []\n",
        "    distance = []\n",
        "    for i in range(datasets.shape[0]):\n",
        "        if Counter(pt!=datasets[i])[True]==datasets.shape[1]:\n",
        "            dist = np.linalg.norm(pt-datasets[i])\n",
        "            if dist <eps:\n",
        "                nbrs.append(datasets[i])\n",
        "                distance.append(dist)\n",
        "    df['neighbors'] = nbrs\n",
        "    df['nbr_distance'] = distance\n",
        "    df = df.sort_values('nbr_distance')\n",
        "    df.index = range(len(df))\n",
        "    if len(df)>=minpts:\n",
        "        df['core_distance'] = [df.loc[minpts-1]['nbr_distance']]*len(df)\n",
        "        df['reach_distance'] = df[['nbr_distance','core_distance']].max(axis=1)\n",
        "        core_dist_decision  = 'defined'\n",
        "    else:    \n",
        "        df['core_distance'] = [10000]*len(df)\n",
        "        df['reach_distance'] = [10000]*len(df)\n",
        "        core_dist_decision  = 'undefined'\n",
        "    return df, df['neighbors'].values,core_dist_decision"
      ],
      "execution_count": null,
      "outputs": []
    },
    {
      "cell_type": "markdown",
      "metadata": {
        "id": "WzL3Jso8hoOX"
      },
      "source": [
        "<div class=\"alert alert-block alert-success\">\n",
        "<b>Updating master data with processed point:</b> We will update the master data with the point and its cluster. It will be the point for which we calculated the neighbors and also the distances using the previous functions\n",
        "</div>"
      ]
    },
    {
      "cell_type": "code",
      "metadata": {
        "id": "EVXIxmJ_hoOY"
      },
      "source": [
        "def update_p(p,Cluster,N):\n",
        "    for i in range(master_df.shape[0]):\n",
        "            if Counter(np.array(p)==master_df.loc[i]['Points'])[True]==datasets.shape[1]:\n",
        "                master_df.loc[i,'Cluster']       = Cluster\n",
        "                master_df.loc[i,'Core Distance'] = N['core_distance'].values[0]"
      ],
      "execution_count": null,
      "outputs": []
    },
    {
      "cell_type": "markdown",
      "metadata": {
        "id": "gt8SAetIhoOa"
      },
      "source": [
        "<div class=\"alert alert-block alert-success\">\n",
        "<b>Functions to update reachability distance:</b> This function will update the reachability distance depending upon some rules. This will be mostly used by points within a neighbourhood set.\n",
        "</div>"
      ]
    },
    {
      "cell_type": "code",
      "metadata": {
        "id": "8rv_8APzhoOb"
      },
      "source": [
        "def update_neighbor_data(N):\n",
        "    for i in range(len(N)):\n",
        "        pt             = N['neighbors'][i]\n",
        "        reach_distance = N['reach_distance'][i]\n",
        "        for j in range(master_df.shape[0]):\n",
        "                \n",
        "                if Counter(pt==master_df.loc[j]['Points'])[True]==datasets.shape[1]:\n",
        "                    existing_reach_dist     = master_df.loc[j]['Reachability Distance']\n",
        "                    \n",
        "                    if existing_reach_dist == 10000 or (existing_reach_dist >reach_distance):\n",
        "                        master_df.loc[j,'Reachability Distance']=reach_distance\n",
        "\n",
        "\n",
        "    "
      ],
      "execution_count": null,
      "outputs": []
    },
    {
      "cell_type": "markdown",
      "metadata": {
        "id": "RbBgM7sMhoOc"
      },
      "source": [
        "<div class=\"alert alert-block alert-success\">\n",
        "<b>Creating data and updating parameters:</b> We will create the dataset and also set parameters - minpts and eps to be used through out the code.\n",
        "</div>"
      ]
    },
    {
      "cell_type": "code",
      "metadata": {
        "colab": {
          "base_uri": "https://localhost:8080/",
          "height": 336
        },
        "id": "vJ8mUxJZhoOe",
        "outputId": "ba1c07ed-3909-4c7d-b6b9-83f6dde79b88"
      },
      "source": [
        "X,y      = make_blobs(n_samples=50,n_features=2,centers=7,random_state=5)\n",
        "datasets = X\n",
        "fig,ax = plt.subplots(figsize=(5,5))\n",
        "ax.set_title(\"Actual Data showing 2 clusters\")\n",
        "ax.scatter(X[:,0],X[:,1],c='black',s=50,cmap = 'inferno');"
      ],
      "execution_count": null,
      "outputs": [
        {
          "output_type": "display_data",
          "data": {
            "image/png": "[encoded data removed]",
            "text/plain": [
              "<Figure size 360x360 with 1 Axes>"
            ]
          },
          "metadata": {
            "tags": [],
            "needs_background": "light"
          }
        }
      ]
    },
    {
      "cell_type": "markdown",
      "metadata": {
        "id": "wdnFWA7vhoOh"
      },
      "source": [
        "<div class=\"alert alert-block alert-success\">\n",
        "<b>Creating Master dataframe:</b> We wil create a master dataframe to track the progress of cluster formation. All data points are having cluster number '0' assigned to them and it will be updated in the course of time. Also 'Reachability Distance' and 'Core Distance' are set to be undefined and will be updated as needed.\n",
        "</div>"
      ]
    },
    {
      "cell_type": "code",
      "metadata": {
        "colab": {
          "base_uri": "https://localhost:8080/",
          "height": 204
        },
        "id": "d_B7PCH3hoOi",
        "outputId": "daa3ade9-08bd-4b64-a761-193f231f7ebb"
      },
      "source": [
        "minpts                             = 3\n",
        "eps                                = 5\n",
        "master_df                          = pd.DataFrame(columns=['Points','Cluster','Reachability Distance','Core Distance'])\n",
        "master_df['Points']                = [list(X[i]) for i in range(X.shape[0])]\n",
        "master_df['Cluster']               = [0] *(X.shape[0])\n",
        "master_df['Reachability Distance'] = [10000]*X.shape[0]\n",
        "master_df['Core Distance']         = [10000]*X.shape[0]\n",
        "unclustered_data                   = len(master_df[master_df['Cluster']==0])\n",
        "Cluster                            = 1\n",
        "master_df.head()"
      ],
      "execution_count": null,
      "outputs": [
        {
          "output_type": "execute_result",
          "data": {
            "text/html": [
              "<div>\n",
              "<style scoped>\n",
              "    .dataframe tbody tr th:only-of-type {\n",
              "        vertical-align: middle;\n",
              "    }\n",
              "\n",
              "    .dataframe tbody tr th {\n",
              "        vertical-align: top;\n",
              "    }\n",
              "\n",
              "    .dataframe thead th {\n",
              "        text-align: right;\n",
              "    }\n",
              "</style>\n",
              "<table border=\"1\" class=\"dataframe\">\n",
              "  <thead>\n",
              "    <tr style=\"text-align: right;\">\n",
              "      <th></th>\n",
              "      <th>Points</th>\n",
              "      <th>Cluster</th>\n",
              "      <th>Reachability Distance</th>\n",
              "      <th>Core Distance</th>\n",
              "    </tr>\n",
              "  </thead>\n",
              "  <tbody>\n",
              "    <tr>\n",
              "      <th>0</th>\n",
              "      <td>[-0.5681124832399695, 2.134262911745807]</td>\n",
              "      <td>0</td>\n",
              "      <td>10000</td>\n",
              "      <td>10000</td>\n",
              "    </tr>\n",
              "    <tr>\n",
              "      <th>1</th>\n",
              "      <td>[-4.4087455687180395, 9.27197713077884]</td>\n",
              "      <td>0</td>\n",
              "      <td>10000</td>\n",
              "      <td>10000</td>\n",
              "    </tr>\n",
              "    <tr>\n",
              "      <th>2</th>\n",
              "      <td>[-5.667956802168973, 9.707066733000014]</td>\n",
              "      <td>0</td>\n",
              "      <td>10000</td>\n",
              "      <td>10000</td>\n",
              "    </tr>\n",
              "    <tr>\n",
              "      <th>3</th>\n",
              "      <td>[-7.3667534915145545, 5.83015736266678]</td>\n",
              "      <td>0</td>\n",
              "      <td>10000</td>\n",
              "      <td>10000</td>\n",
              "    </tr>\n",
              "    <tr>\n",
              "      <th>4</th>\n",
              "      <td>[-2.0202841589592184, -4.312995011591985]</td>\n",
              "      <td>0</td>\n",
              "      <td>10000</td>\n",
              "      <td>10000</td>\n",
              "    </tr>\n",
              "  </tbody>\n",
              "</table>\n",
              "</div>"
            ],
            "text/plain": [
              "                                      Points  ...  Core Distance\n",
              "0   [-0.5681124832399695, 2.134262911745807]  ...          10000\n",
              "1    [-4.4087455687180395, 9.27197713077884]  ...          10000\n",
              "2    [-5.667956802168973, 9.707066733000014]  ...          10000\n",
              "3    [-7.3667534915145545, 5.83015736266678]  ...          10000\n",
              "4  [-2.0202841589592184, -4.312995011591985]  ...          10000\n",
              "\n",
              "[5 rows x 4 columns]"
            ]
          },
          "metadata": {
            "tags": []
          },
          "execution_count": 11
        }
      ]
    },
    {
      "cell_type": "code",
      "metadata": {
        "id": "VD5893lLhoOj"
      },
      "source": [
        "while unclustered_data>0:\n",
        "    \n",
        "    p                             = output_unprocessed_point()\n",
        "    N,nbrs_p,coredist_decision    = calculate_neighbors(p)\n",
        "    if coredist_decision=='defined':\n",
        "        _              = update_p(p,Cluster,N)\n",
        "        _              = update_neighbor_data(N)\n",
        "    for i in range(len(nbrs_p)):\n",
        "        if check_processed(nbrs_p[i]) == 'not assigned':\n",
        "            N_new,nbrs_q,coredist_decision = calculate_neighbors(nbrs_p[i])\n",
        "            if coredist_decision=='defined':\n",
        "                _              = update_p(nbrs_p[i],Cluster,N_new)\n",
        "                _              = update_neighbor_data(N_new)\n",
        "    Cluster = Cluster+1\n",
        "    unclustered_data = len(master_df[master_df['Cluster']==0])"
      ],
      "execution_count": null,
      "outputs": []
    },
    {
      "cell_type": "code",
      "metadata": {
        "colab": {
          "base_uri": "https://localhost:8080/",
          "height": 204
        },
        "id": "u0wmbIdhhoOk",
        "outputId": "047f4b01-8193-457f-dc60-d3d544865a2f"
      },
      "source": [
        "master_df.head()"
      ],
      "execution_count": null,
      "outputs": [
        {
          "output_type": "execute_result",
          "data": {
            "text/html": [
              "<div>\n",
              "<style scoped>\n",
              "    .dataframe tbody tr th:only-of-type {\n",
              "        vertical-align: middle;\n",
              "    }\n",
              "\n",
              "    .dataframe tbody tr th {\n",
              "        vertical-align: top;\n",
              "    }\n",
              "\n",
              "    .dataframe thead th {\n",
              "        text-align: right;\n",
              "    }\n",
              "</style>\n",
              "<table border=\"1\" class=\"dataframe\">\n",
              "  <thead>\n",
              "    <tr style=\"text-align: right;\">\n",
              "      <th></th>\n",
              "      <th>Points</th>\n",
              "      <th>Cluster</th>\n",
              "      <th>Reachability Distance</th>\n",
              "      <th>Core Distance</th>\n",
              "    </tr>\n",
              "  </thead>\n",
              "  <tbody>\n",
              "    <tr>\n",
              "      <th>0</th>\n",
              "      <td>[-0.5681124832399695, 2.134262911745807]</td>\n",
              "      <td>1</td>\n",
              "      <td>1.046356</td>\n",
              "      <td>1.275822</td>\n",
              "    </tr>\n",
              "    <tr>\n",
              "      <th>1</th>\n",
              "      <td>[-4.4087455687180395, 9.27197713077884]</td>\n",
              "      <td>2</td>\n",
              "      <td>1.306073</td>\n",
              "      <td>1.643419</td>\n",
              "    </tr>\n",
              "    <tr>\n",
              "      <th>2</th>\n",
              "      <td>[-5.667956802168973, 9.707066733000014]</td>\n",
              "      <td>2</td>\n",
              "      <td>1.114037</td>\n",
              "      <td>1.332260</td>\n",
              "    </tr>\n",
              "    <tr>\n",
              "      <th>3</th>\n",
              "      <td>[-7.3667534915145545, 5.83015736266678]</td>\n",
              "      <td>2</td>\n",
              "      <td>0.895611</td>\n",
              "      <td>1.491286</td>\n",
              "    </tr>\n",
              "    <tr>\n",
              "      <th>4</th>\n",
              "      <td>[-2.0202841589592184, -4.312995011591985]</td>\n",
              "      <td>3</td>\n",
              "      <td>1.586294</td>\n",
              "      <td>1.834897</td>\n",
              "    </tr>\n",
              "  </tbody>\n",
              "</table>\n",
              "</div>"
            ],
            "text/plain": [
              "                                      Points  ...  Core Distance\n",
              "0   [-0.5681124832399695, 2.134262911745807]  ...       1.275822\n",
              "1    [-4.4087455687180395, 9.27197713077884]  ...       1.643419\n",
              "2    [-5.667956802168973, 9.707066733000014]  ...       1.332260\n",
              "3    [-7.3667534915145545, 5.83015736266678]  ...       1.491286\n",
              "4  [-2.0202841589592184, -4.312995011591985]  ...       1.834897\n",
              "\n",
              "[5 rows x 4 columns]"
            ]
          },
          "metadata": {
            "tags": []
          },
          "execution_count": 13
        }
      ]
    },
    {
      "cell_type": "code",
      "metadata": {
        "colab": {
          "base_uri": "https://localhost:8080/",
          "height": 336
        },
        "id": "5RU6GepfhoOl",
        "outputId": "58f3d9cd-f86e-4a34-fe0d-a59b9ecde1be"
      },
      "source": [
        "fig,ax = plt.subplots(figsize=(5,5))\n",
        "ax.set_title(\"Clustered Data showing clusters (using OPTICS)\")\n",
        "ax.scatter(X[:,0],X[:,1],c=master_df['Cluster'].values,s=50,cmap = 'inferno');"
      ],
      "execution_count": null,
      "outputs": [
        {
          "output_type": "display_data",
          "data": {
            "image/png": "[encoded data removed]",
            "text/plain": [
              "<Figure size 360x360 with 1 Axes>"
            ]
          },
          "metadata": {
            "tags": [],
            "needs_background": "light"
          }
        }
      ]
    },
    {
      "cell_type": "markdown",
      "metadata": {
        "id": "S6vmp3LBhoOl"
      },
      "source": [
        "We will now see graphically how dense the points are clustered with each other (Density of points using reachability) "
      ]
    },
    {
      "cell_type": "code",
      "metadata": {
        "id": "hz8Zys44hoOm"
      },
      "source": [
        "first_cluster = master_df[master_df['Cluster']==1].sort_values('Reachability Distance')"
      ],
      "execution_count": null,
      "outputs": []
    },
    {
      "cell_type": "code",
      "metadata": {
        "id": "yGuMDy90hoOn"
      },
      "source": [
        "second_cluster = master_df[master_df['Cluster']==2].sort_values('Reachability Distance')"
      ],
      "execution_count": null,
      "outputs": []
    },
    {
      "cell_type": "code",
      "metadata": {
        "id": "ZgdatTXSlybV"
      },
      "source": [
        "third_cluster = master_df[master_df['Cluster']==3].sort_values('Reachability Distance')"
      ],
      "execution_count": null,
      "outputs": []
    },
    {
      "cell_type": "code",
      "metadata": {
        "id": "SHquGzGZlyVw"
      },
      "source": [
        "fourth_cluster = master_df[master_df['Cluster']==4].sort_values('Reachability Distance')"
      ],
      "execution_count": null,
      "outputs": []
    },
    {
      "cell_type": "code",
      "metadata": {
        "id": "faYhGvR9l0Hf"
      },
      "source": [
        "fifth_cluster = master_df[master_df['Cluster']==5].sort_values('Reachability Distance')"
      ],
      "execution_count": null,
      "outputs": []
    },
    {
      "cell_type": "code",
      "metadata": {
        "colab": {
          "base_uri": "https://localhost:8080/",
          "height": 282
        },
        "id": "Vlkf6TxhhoOn",
        "outputId": "11713b32-1580-4796-c87c-8e67ae4bd83e"
      },
      "source": [
        "ax        = first_cluster['Reachability Distance'].plot(kind=\"bar\", legend=False,color='green')\n",
        "ax.set_ylabel(\"Reachability Distance\");\n",
        "ax.set_xlabel('Sample Points');"
      ],
      "execution_count": null,
      "outputs": [
        {
          "output_type": "display_data",
          "data": {
            "image/png": "[encoded data removed]",
            "text/plain": [
              "<Figure size 432x288 with 1 Axes>"
            ]
          },
          "metadata": {
            "tags": [],
            "needs_background": "light"
          }
        }
      ]
    },
    {
      "cell_type": "code",
      "metadata": {
        "colab": {
          "base_uri": "https://localhost:8080/",
          "height": 282
        },
        "id": "aJ5Fpq3_hoOo",
        "outputId": "765c8661-4208-4427-97d5-423d2e50275e"
      },
      "source": [
        "ax        = second_cluster['Reachability Distance'].plot(kind=\"bar\", legend=False,color='pink')\n",
        "ax.set_ylabel(\"Reachability Distance\");\n",
        "ax.set_xlabel('Sample Points');"
      ],
      "execution_count": null,
      "outputs": [
        {
          "output_type": "display_data",
          "data": {
            "image/png": "[encoded data removed]",
            "text/plain": [
              "<Figure size 432x288 with 1 Axes>"
            ]
          },
          "metadata": {
            "tags": [],
            "needs_background": "light"
          }
        }
      ]
    },
    {
      "cell_type": "code",
      "metadata": {
        "colab": {
          "base_uri": "https://localhost:8080/",
          "height": 282
        },
        "id": "FXTo-BN0mAcW",
        "outputId": "52ffe5f1-b374-46a2-c1d2-99c01a1d1b92"
      },
      "source": [
        "ax        = third_cluster['Reachability Distance'].plot(kind=\"bar\", legend=False,color='blue')\n",
        "ax.set_ylabel(\"Reachability Distance\");\n",
        "ax.set_xlabel('Sample Points');"
      ],
      "execution_count": null,
      "outputs": [
        {
          "output_type": "display_data",
          "data": {
            "image/png": "[encoded data removed]",
            "text/plain": [
              "<Figure size 432x288 with 1 Axes>"
            ]
          },
          "metadata": {
            "tags": [],
            "needs_background": "light"
          }
        }
      ]
    },
    {
      "cell_type": "code",
      "metadata": {
        "colab": {
          "base_uri": "https://localhost:8080/",
          "height": 282
        },
        "id": "A_ENlTgFmF0X",
        "outputId": "6827f7f4-71ab-4422-b557-5cef93d49751"
      },
      "source": [
        "ax        = fourth_cluster['Reachability Distance'].plot(kind=\"bar\", legend=False,color='green')\n",
        "ax.set_ylabel(\"Reachability Distance\");\n",
        "ax.set_xlabel('Sample Points');"
      ],
      "execution_count": null,
      "outputs": [
        {
          "output_type": "display_data",
          "data": {
            "image/png": "[encoded data removed]",
            "text/plain": [
              "<Figure size 432x288 with 1 Axes>"
            ]
          },
          "metadata": {
            "tags": [],
            "needs_background": "light"
          }
        }
      ]
    },
    {
      "cell_type": "code",
      "metadata": {
        "colab": {
          "base_uri": "https://localhost:8080/",
          "height": 282
        },
        "id": "JaB_vYL5mI5T",
        "outputId": "08c0a79a-246c-4946-d59f-9431d7804da7"
      },
      "source": [
        "ax        = fifth_cluster['Reachability Distance'].plot(kind=\"bar\", legend=False,color='green')\n",
        "ax.set_ylabel(\"Reachability Distance\");\n",
        "ax.set_xlabel('Sample Points');"
      ],
      "execution_count": null,
      "outputs": [
        {
          "output_type": "display_data",
          "data": {
            "image/png": "[encoded data removed]",
            "text/plain": [
              "<Figure size 432x288 with 1 Axes>"
            ]
          },
          "metadata": {
            "tags": [],
            "needs_background": "light"
          }
        }
      ]
    }
  ]
}